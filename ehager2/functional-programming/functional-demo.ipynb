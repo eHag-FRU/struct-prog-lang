{
 "cells": [
  {
   "cell_type": "code",
   "execution_count": 37,
   "metadata": {},
   "outputs": [],
   "source": [
    "def head(t):\n",
    "    if len(t) > 0:\n",
    "        return t[0]\n",
    "    else:\n",
    "        return None\n",
    "    \n",
    "def test_head():\n",
    "    assert head([1,2,3]) == 1\n",
    "    assert head([]) == None\n",
    "\n",
    "test_head()\n",
    "    "
   ]
  },
  {
   "cell_type": "code",
   "execution_count": 38,
   "metadata": {},
   "outputs": [],
   "source": [
    "def tail(t):\n",
    "    if t == []:\n",
    "        return []\n",
    "    else:\n",
    "        return t[1:]\n",
    "\n",
    "def test_tail():\n",
    "    assert tail([1,2,3]) == [2,3]\n",
    "    assert tail([]) == []\n",
    "\n",
    "test_tail()"
   ]
  },
  {
   "cell_type": "code",
   "execution_count": 39,
   "metadata": {},
   "outputs": [],
   "source": [
    "def count(t):\n",
    "    if t == []:\n",
    "        return 0\n",
    "    else:\n",
    "        return 1 + count(tail(t))\n",
    "\n",
    "def test_count():\n",
    "    assert count([]) == 0\n",
    "    assert count([1,2,3]) == 3\n",
    "\n",
    "test_count()"
   ]
  },
  {
   "cell_type": "code",
   "execution_count": 40,
   "metadata": {},
   "outputs": [],
   "source": [
    "def sum(t):\n",
    "    if t == []:\n",
    "        return 0\n",
    "    else:\n",
    "        return head(t) + sum(tail(t))\n",
    "\n",
    "def test_sum():\n",
    "    assert sum([]) == 0\n",
    "    assert sum([1,2,3]) == 6\n",
    "\n",
    "test_sum()"
   ]
  },
  {
   "cell_type": "code",
   "execution_count": 41,
   "metadata": {},
   "outputs": [],
   "source": [
    "def upper(t,n):\n",
    "    if t == []:\n",
    "        return []\n",
    "    if head(t) > n:\n",
    "        return [head(t)] + upper(tail(t), n)\n",
    "    \n",
    "    return upper(tail(t), n)\n",
    "    \n",
    "def test_upper():\n",
    "    assert upper([1,2,3,4], 2) == [3,4]\n",
    "    assert upper([1,2,3,4], 5) == []\n",
    "    assert upper([], 2) == []\n",
    "\n",
    "test_upper()"
   ]
  },
  {
   "cell_type": "code",
   "execution_count": 42,
   "metadata": {},
   "outputs": [],
   "source": [
    "def lower(t,n):\n",
    "    if t == []:\n",
    "        return []\n",
    "    if head(t) < n:\n",
    "        return [head(t)] + lower(tail(t), n)\n",
    "    \n",
    "    return lower(tail(t), n)\n",
    "    \n",
    "def test_lower():\n",
    "    assert lower([1,2,3,4], 3) == [1,2]\n",
    "    assert lower([1,2,3,4], 0) == []\n",
    "    assert lower([], 2) == []\n",
    "\n",
    "test_lower()"
   ]
  },
  {
   "cell_type": "code",
   "execution_count": 43,
   "metadata": {},
   "outputs": [],
   "source": [
    "def equal(t,n):\n",
    "    if t == []:\n",
    "        return []\n",
    "    if head(t) == n:\n",
    "        return [head(t)] + equal(tail(t), n)\n",
    "    \n",
    "    return equal(tail(t), n)\n",
    "    \n",
    "def test_equal():\n",
    "    assert equal([1,2,2,4], 2) == [2,2]\n",
    "    assert equal([1,2,4,5], 3) == []\n",
    "    assert equal([], 2) == []\n",
    "\n",
    "test_equal()"
   ]
  },
  {
   "cell_type": "code",
   "execution_count": 44,
   "metadata": {},
   "outputs": [],
   "source": [
    "def sort(t):\n",
    "    if t == []:\n",
    "        return []\n",
    "    \n",
    "    n = head(t)\n",
    "\n",
    "\n",
    "    return sort(lower(tail(t),n)) + equal(t,n) + sort(upper(tail(t),n))\n",
    "\n",
    "def test_sort():\n",
    "    assert sort([1]) == [1]\n",
    "    assert sort([1,3,2,4,9,3,8,7,5,6,0]) == [0,1,2,3,3,4,5,6,7,8,9]\n",
    "    assert sort([]) == []\n",
    "\n",
    "test_sort()"
   ]
  }
 ],
 "metadata": {
  "kernelspec": {
   "display_name": "Python 3",
   "language": "python",
   "name": "python3"
  },
  "language_info": {
   "codemirror_mode": {
    "name": "ipython",
    "version": 3
   },
   "file_extension": ".py",
   "mimetype": "text/x-python",
   "name": "python",
   "nbconvert_exporter": "python",
   "pygments_lexer": "ipython3",
   "version": "3.12.1"
  }
 },
 "nbformat": 4,
 "nbformat_minor": 2
}
